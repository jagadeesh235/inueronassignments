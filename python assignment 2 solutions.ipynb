{
 "cells": [
  {
   "cell_type": "markdown",
   "metadata": {},
   "source": [
    "# TASK 1"
   ]
  },
  {
   "cell_type": "markdown",
   "metadata": {},
   "source": [
    "# 1.1"
   ]
  },
  {
   "cell_type": "code",
   "execution_count": 1,
   "metadata": {},
   "outputs": [
    {
     "name": "stdout",
     "output_type": "stream",
     "text": [
      "6\n"
     ]
    }
   ],
   "source": [
    "def myreduce(function, inputs):\n",
    "    first = inputs[0]\n",
    "    for i in inputs[1:]:\n",
    "        first = function(first, i)\n",
    "    return first\n",
    "\n",
    "def sum(x1, x2):\n",
    "    return x1+x2\n",
    "\n",
    "print(myreduce(sum, [1,2,3]))"
   ]
  },
  {
   "cell_type": "markdown",
   "metadata": {},
   "source": [
    "# 1.2"
   ]
  },
  {
   "cell_type": "code",
   "execution_count": 2,
   "metadata": {},
   "outputs": [
    {
     "name": "stdout",
     "output_type": "stream",
     "text": [
      "[2, 4, 6]\n"
     ]
    }
   ],
   "source": [
    "def myfilter(function, inputs):\n",
    "    if function is None:\n",
    "        return [item for item in inputs if item]\n",
    "    else:\n",
    "        return [item for item in inputs if function(item)]\n",
    "        \n",
    "def even(x1):\n",
    "    return x1%2==0\n",
    "\n",
    "print(myfilter(even,[1,2,3,4,5,6,7]))"
   ]
  },
  {
   "cell_type": "markdown",
   "metadata": {},
   "source": [
    "# 2."
   ]
  },
  {
   "cell_type": "code",
   "execution_count": 3,
   "metadata": {},
   "outputs": [
    {
     "name": "stdout",
     "output_type": "stream",
     "text": [
      "['A', 'C', 'A', 'D', 'G', 'I', 'L', 'D']\n",
      "['x', 'xx', 'xxx', 'xxxx', 'y', 'yy', 'yyy', 'yyyy', 'z', 'zz', 'zzz', 'zzzz']\n",
      "['x', 'y', 'z', 'xx', 'yy', 'zz', 'xxx', 'yyy', 'zzz', 'xxxx', 'yyyy', 'zzzz']\n",
      "[[2], [3], [4], [3], [4], [5], [4], [5], [6]]\n",
      "[[2, 3, 4, 5], [3, 4, 5, 6], [4, 5, 6, 7], [5, 6, 7, 8]]\n",
      "[(1, 1), (2, 1), (3, 1), (1, 2), (2, 2), (3, 2), (1, 3), (2, 3), (3, 3)]\n"
     ]
    }
   ],
   "source": [
    "input1 =\"ACADGILD\"\n",
    "output1 = list(input1)\n",
    "print(output1)\n",
    "input2 = ['x', 'y', 'z']\n",
    "output2 = [(a * b) for a in input2 for b in range(1,5)]\n",
    "print(output2)\n",
    "a=0\n",
    "b=0\n",
    "output3 = [(a * b) for b in range(1,5) for a in input2]\n",
    "print(output3)\n",
    "a=0\n",
    "b=0\n",
    "input4 = [2,3,4,5,6]\n",
    "output4 = [[input4[b+a]] for a in range(0,len(input4)-2) for b in range(0,3)]\n",
    "print(output4)\n",
    "a=0\n",
    "b=0\n",
    "input5 = [2,3,4,5,6,7,8]\n",
    "output5 = [input5[a:a+4] for a in range(0,len(input5)-3)]\n",
    "print(output5)\n",
    "a=0\n",
    "b=0\n",
    "input6 = [1,2,3]\n",
    "output6 = [(b,a) for a in input6 for b in input6]\n",
    "print(output6)"
   ]
  },
  {
   "cell_type": "markdown",
   "metadata": {},
   "source": [
    "# 3."
   ]
  },
  {
   "cell_type": "code",
   "execution_count": 4,
   "metadata": {},
   "outputs": [
    {
     "name": "stdout",
     "output_type": "stream",
     "text": [
      "abcdefghijklmnopqr\n"
     ]
    }
   ],
   "source": [
    "def longestWord(words):\n",
    "    return max(words, key=len)\n",
    "\n",
    "\n",
    "print(longestWord(['abcdefghijklmn', 'abcdefghijklmnopqr', 'avxc', 'fsfsfsfs']))\n"
   ]
  },
  {
   "cell_type": "markdown",
   "metadata": {},
   "source": [
    "# TASK 2"
   ]
  },
  {
   "cell_type": "markdown",
   "metadata": {},
   "source": [
    "# 1.1"
   ]
  },
  {
   "cell_type": "code",
   "execution_count": 5,
   "metadata": {},
   "outputs": [
    {
     "name": "stdout",
     "output_type": "stream",
     "text": [
      "6.0\n"
     ]
    }
   ],
   "source": [
    "import math\n",
    "\n",
    "class Triangle:\n",
    "    a=0\n",
    "    b=0\n",
    "    c=0\n",
    "    s=0\n",
    "    \n",
    "    def __init__(self, a, b, c):\n",
    "        self.a = a\n",
    "        self.b = b\n",
    "        self.c = c\n",
    "        self.s = (a+b+c)/2\n",
    "        \n",
    "    def area(self):\n",
    "        return math.sqrt(self.s*(self.s-self.a)*(self.s-self.b)*(self.s-self.c))\n",
    "    \n",
    "triangle = Triangle(3,4,5)\n",
    "print(triangle.area())"
   ]
  },
  {
   "cell_type": "markdown",
   "metadata": {},
   "source": [
    "# 1.2"
   ]
  },
  {
   "cell_type": "code",
   "execution_count": 6,
   "metadata": {},
   "outputs": [
    {
     "name": "stdout",
     "output_type": "stream",
     "text": [
      "['abcdefghijklmn', 'abcdefghijklmnopqr', 'fsfsfsfs']\n"
     ]
    }
   ],
   "source": [
    "def filter_long_words(words, n):\n",
    "    return list(filter(lambda x: (len(x) )>n , words))\n",
    "    \n",
    "print(filter_long_words(['abcdefghijklmn', 'abcdefghijklmnopqr', 'avxc', 'a','fsfsfsfs',''],7))"
   ]
  },
  {
   "cell_type": "markdown",
   "metadata": {},
   "source": [
    "# 2.1"
   ]
  },
  {
   "cell_type": "code",
   "execution_count": 7,
   "metadata": {},
   "outputs": [
    {
     "name": "stdout",
     "output_type": "stream",
     "text": [
      "[2, 3, 4]\n"
     ]
    }
   ],
   "source": [
    "def len_map(words):\n",
    "    return list(map(lambda x: len(x), words))\n",
    "\n",
    "print(len_map(['ab', 'cde', 'erty']))"
   ]
  },
  {
   "cell_type": "markdown",
   "metadata": {},
   "source": [
    "# 2.2"
   ]
  },
  {
   "cell_type": "code",
   "execution_count": 8,
   "metadata": {},
   "outputs": [
    {
     "name": "stdout",
     "output_type": "stream",
     "text": [
      "True\n",
      "False\n"
     ]
    }
   ],
   "source": [
    "def is_vowel(char):\n",
    "    return True if len(char)==1 and char in ['a','e','i','o', 'u'] else False\n",
    "\n",
    "print(is_vowel('u'))\n",
    "print(is_vowel('b'))\n"
   ]
  }
 ],
 "metadata": {
  "kernelspec": {
   "display_name": "Python 3",
   "language": "python",
   "name": "python3"
  },
  "language_info": {
   "codemirror_mode": {
    "name": "ipython",
    "version": 3
   },
   "file_extension": ".py",
   "mimetype": "text/x-python",
   "name": "python",
   "nbconvert_exporter": "python",
   "pygments_lexer": "ipython3",
   "version": "3.7.3"
  }
 },
 "nbformat": 4,
 "nbformat_minor": 2
}
